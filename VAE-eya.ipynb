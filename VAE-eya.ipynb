{
 "cells": [
  {
   "cell_type": "code",
   "execution_count": null,
   "id": "401ddfff",
   "metadata": {
    "_cell_guid": "b1076dfc-b9ad-4769-8c92-a6c4dae69d19",
    "_uuid": "8f2839f25d086af736a60e9eeb907d3b93b6e0e5",
    "papermill": {
     "duration": 0.006983,
     "end_time": "2024-11-13T16:19:21.500423",
     "exception": false,
     "start_time": "2024-11-13T16:19:21.493440",
     "status": "completed"
    },
    "tags": []
   },
   "outputs": [],
   "source": []
  },
  {
   "cell_type": "code",
   "execution_count": 1,
   "id": "955d4173",
   "metadata": {
    "execution": {
     "iopub.execute_input": "2024-11-13T16:19:21.514411Z",
     "iopub.status.busy": "2024-11-13T16:19:21.514050Z",
     "iopub.status.idle": "2024-11-13T16:19:21.713797Z",
     "shell.execute_reply": "2024-11-13T16:19:21.713016Z"
    },
    "papermill": {
     "duration": 0.209413,
     "end_time": "2024-11-13T16:19:21.716203",
     "exception": false,
     "start_time": "2024-11-13T16:19:21.506790",
     "status": "completed"
    },
    "tags": []
   },
   "outputs": [],
   "source": [
    "#### import tensorflow as tf\n",
    "import os\n",
    "import cv2\n",
    "import numpy as np\n",
    "\n",
    "# Définir le chemin vers le dataset\n",
    "dataset_path = '/kaggle/input/ucsd-anomaly-detection-dataset/UCSD_Anomaly_Dataset.v1p2'\n",
    "\n",
    "# Chemins vers les sous-dossiers pour les jeux de données\n",
    "paths = {\n",
    "    'UCSDped1_Train': os.path.join(dataset_path, 'UCSDped1', 'Train'),\n",
    "    'UCSDped1_Test': os.path.join(dataset_path, 'UCSDped1', 'Test'),\n",
    "    'UCSDped2_Train': os.path.join(dataset_path, 'UCSDped2', 'Train'),\n",
    "    'UCSDped2_Test': os.path.join(dataset_path, 'UCSDped2', 'Test')\n",
    "}"
   ]
  },
  {
   "cell_type": "code",
   "execution_count": 2,
   "id": "bad8af5e",
   "metadata": {
    "execution": {
     "iopub.execute_input": "2024-11-13T16:19:21.730592Z",
     "iopub.status.busy": "2024-11-13T16:19:21.730222Z",
     "iopub.status.idle": "2024-11-13T16:19:25.575702Z",
     "shell.execute_reply": "2024-11-13T16:19:25.574936Z"
    },
    "papermill": {
     "duration": 3.85534,
     "end_time": "2024-11-13T16:19:25.578072",
     "exception": false,
     "start_time": "2024-11-13T16:19:21.722732",
     "status": "completed"
    },
    "tags": []
   },
   "outputs": [],
   "source": [
    "# Fonction pour charger les chemins d'images depuis un dossier\n",
    "def get_image_paths(folder_path):\n",
    "    image_paths = []\n",
    "    if not os.path.exists(folder_path):\n",
    "        print(f\"Chemin non trouvé : {folder_path}\")\n",
    "        return image_paths\n",
    "\n",
    "    for subfolder in sorted(os.listdir(folder_path)):\n",
    "        subfolder_path = os.path.join(folder_path, subfolder)\n",
    "        if os.path.isdir(subfolder_path):  # Vérifiez si c'est un dossier\n",
    "            for filename in sorted(os.listdir(subfolder_path)):\n",
    "                img_path = os.path.join(subfolder_path, filename)\n",
    "                # Vérifie l'extension de fichier pour éviter les fichiers non image\n",
    "                if img_path.lower().endswith(('.jpg', '.jpeg', '.png', '.bmp', '.gif','tif')):\n",
    "                    image_paths.append(img_path)\n",
    "    return image_paths\n",
    "\n",
    "# Récupérer tous les chemins d'images pour chaque dossier\n",
    "train1_paths = get_image_paths(paths['UCSDped1_Train'])\n",
    "test1_paths = get_image_paths(paths['UCSDped1_Test'])\n",
    "train2_paths = get_image_paths(paths['UCSDped2_Train'])\n",
    "test2_paths = get_image_paths(paths['UCSDped2_Test'])\n"
   ]
  },
  {
   "cell_type": "code",
   "execution_count": 3,
   "id": "0d1d24a9",
   "metadata": {
    "execution": {
     "iopub.execute_input": "2024-11-13T16:19:25.594162Z",
     "iopub.status.busy": "2024-11-13T16:19:25.593595Z",
     "iopub.status.idle": "2024-11-13T16:19:25.599877Z",
     "shell.execute_reply": "2024-11-13T16:19:25.599013Z"
    },
    "papermill": {
     "duration": 0.015558,
     "end_time": "2024-11-13T16:19:25.601748",
     "exception": false,
     "start_time": "2024-11-13T16:19:25.586190",
     "status": "completed"
    },
    "tags": []
   },
   "outputs": [],
   "source": [
    "from PIL import Image\n",
    "import numpy as np\n",
    "\n",
    "# Définir img_width et img_height si ce n'est pas encore fait\n",
    "img_width = 128  # Remplacez par la largeur souhaitée\n",
    "img_height = 128  # Remplacez par la hauteur souhaitée\n",
    "\n",
    "def load_tif_image(file_path):\n",
    "    try:\n",
    "        with Image.open(file_path) as img:\n",
    "            img = img.convert(\"L\")  # Convertir en niveaux de gris\n",
    "            img = img.resize((img_width, img_height))  # Redimensionner\n",
    "            img_array = np.array(img) / 255.0  # Normaliser\n",
    "            return img_array\n",
    "    except Exception as e:\n",
    "        print(f\"Erreur lors du chargement de l'image {file_path}: {e}\")\n",
    "        return None"
   ]
  },
  {
   "cell_type": "code",
   "execution_count": 4,
   "id": "95d4f597",
   "metadata": {
    "execution": {
     "iopub.execute_input": "2024-11-13T16:19:25.615740Z",
     "iopub.status.busy": "2024-11-13T16:19:25.615163Z",
     "iopub.status.idle": "2024-11-13T16:19:25.619994Z",
     "shell.execute_reply": "2024-11-13T16:19:25.619083Z"
    },
    "papermill": {
     "duration": 0.013997,
     "end_time": "2024-11-13T16:19:25.622007",
     "exception": false,
     "start_time": "2024-11-13T16:19:25.608010",
     "status": "completed"
    },
    "tags": []
   },
   "outputs": [],
   "source": [
    "# Fonction pour vérifier si un fichier est dans un dossier qui se termine par 'gt'\n",
    "def is_gt_folder(image_path):\n",
    "    # Extraire le dossier parent de l'image\n",
    "    parent_folder = os.path.basename(os.path.dirname(image_path))\n",
    "    \n",
    "    # Vérifier si le nom du dossier parent se termine par 'gt'\n",
    "    return parent_folder.endswith('gt')"
   ]
  },
  {
   "cell_type": "code",
   "execution_count": 5,
   "id": "1e8c26d1",
   "metadata": {
    "execution": {
     "iopub.execute_input": "2024-11-13T16:19:25.635441Z",
     "iopub.status.busy": "2024-11-13T16:19:25.635162Z",
     "iopub.status.idle": "2024-11-13T16:20:35.771442Z",
     "shell.execute_reply": "2024-11-13T16:20:35.770670Z"
    },
    "papermill": {
     "duration": 70.145651,
     "end_time": "2024-11-13T16:20:35.773812",
     "exception": false,
     "start_time": "2024-11-13T16:19:25.628161",
     "status": "completed"
    },
    "tags": []
   },
   "outputs": [
    {
     "name": "stdout",
     "output_type": "stream",
     "text": [
      "Erreur lors du chargement de l'image /kaggle/input/ucsd-anomaly-detection-dataset/UCSD_Anomaly_Dataset.v1p2/UCSDped1/Test/Test017/142.tif: -2\n"
     ]
    },
    {
     "name": "stderr",
     "output_type": "stream",
     "text": [
      "PackBitsDecode: Not enough data for scanline 0.\n"
     ]
    }
   ],
   "source": [
    "# Chargez les images et filtrez celles qui sont None\n",
    "train1_images = [load_tif_image(path) for path in train1_paths]\n",
    "train1_images = [img for img in train1_images if img is not None]  # Filtrer les None\n",
    "\n",
    "test1_images = [load_tif_image(path) for path in test1_paths if not is_gt_folder(path)]\n",
    "test1_images = [img for img in test1_images if img is not None]  # Filtrer les None"
   ]
  },
  {
   "cell_type": "code",
   "execution_count": 6,
   "id": "d0ab745f",
   "metadata": {
    "execution": {
     "iopub.execute_input": "2024-11-13T16:20:35.788422Z",
     "iopub.status.busy": "2024-11-13T16:20:35.788085Z",
     "iopub.status.idle": "2024-11-13T16:21:02.835819Z",
     "shell.execute_reply": "2024-11-13T16:21:02.834910Z"
    },
    "papermill": {
     "duration": 27.057671,
     "end_time": "2024-11-13T16:21:02.838200",
     "exception": false,
     "start_time": "2024-11-13T16:20:35.780529",
     "status": "completed"
    },
    "tags": []
   },
   "outputs": [],
   "source": [
    "# Chargez les images et filtrez celles qui sont None\n",
    "train2_images = [load_tif_image(path) for path in train2_paths]\n",
    "train2_images = [img for img in train1_images if img is not None]  # Filtrer les None\n",
    "\n",
    "test2_images = [load_tif_image(path) for path in test2_paths if not is_gt_folder(path)]\n",
    "test2_images = [img for img in test1_images if img is not None]  # Filtrer les None"
   ]
  },
  {
   "cell_type": "code",
   "execution_count": 7,
   "id": "29a54307",
   "metadata": {
    "execution": {
     "iopub.execute_input": "2024-11-13T16:21:02.853757Z",
     "iopub.status.busy": "2024-11-13T16:21:02.853103Z",
     "iopub.status.idle": "2024-11-13T16:21:02.857641Z",
     "shell.execute_reply": "2024-11-13T16:21:02.856830Z"
    },
    "papermill": {
     "duration": 0.014317,
     "end_time": "2024-11-13T16:21:02.859507",
     "exception": false,
     "start_time": "2024-11-13T16:21:02.845190",
     "status": "completed"
    },
    "tags": []
   },
   "outputs": [],
   "source": [
    "# Combinez les ensembles d'images d'entraînement\n",
    "all_train_images = train1_images + train2_images\n",
    "#all_train_images = train1_images\n",
    "# Combinez les ensembles d'images de test\n",
    "all_test_images = test1_images + test2_images\n",
    "#all_test_images = test1_images"
   ]
  },
  {
   "cell_type": "code",
   "execution_count": 8,
   "id": "0aa99b56",
   "metadata": {
    "execution": {
     "iopub.execute_input": "2024-11-13T16:21:02.873933Z",
     "iopub.status.busy": "2024-11-13T16:21:02.873614Z",
     "iopub.status.idle": "2024-11-13T16:21:03.953753Z",
     "shell.execute_reply": "2024-11-13T16:21:03.952748Z"
    },
    "papermill": {
     "duration": 1.089995,
     "end_time": "2024-11-13T16:21:03.956076",
     "exception": false,
     "start_time": "2024-11-13T16:21:02.866081",
     "status": "completed"
    },
    "tags": []
   },
   "outputs": [
    {
     "name": "stdout",
     "output_type": "stream",
     "text": [
      "train_images shape: (13600, 128, 128)\n",
      "test_images shape: (14398, 128, 128)\n"
     ]
    }
   ],
   "source": [
    "\n",
    "# Convertir les listes d'images en tableaux NumPy\n",
    "train_images = np.array(all_train_images)\n",
    "test_images = np.array(all_test_images)\n",
    "\n",
    "# Vérifiez les formes finales\n",
    "print(f\"train_images shape: {train_images.shape}\")\n",
    "print(f\"test_images shape: {test_images.shape}\")"
   ]
  },
  {
   "cell_type": "code",
   "execution_count": 9,
   "id": "03b18303",
   "metadata": {
    "execution": {
     "iopub.execute_input": "2024-11-13T16:21:03.971784Z",
     "iopub.status.busy": "2024-11-13T16:21:03.970991Z",
     "iopub.status.idle": "2024-11-13T16:21:07.271092Z",
     "shell.execute_reply": "2024-11-13T16:21:07.270272Z"
    },
    "papermill": {
     "duration": 3.310515,
     "end_time": "2024-11-13T16:21:07.273426",
     "exception": false,
     "start_time": "2024-11-13T16:21:03.962911",
     "status": "completed"
    },
    "tags": []
   },
   "outputs": [],
   "source": [
    "import torch\n",
    "from torch import nn\n",
    "\n",
    "class VAE(nn.Module):\n",
    "    def __init__(self, in_channels=1, latent_dim=512, dropout_prob=0.1):\n",
    "        super(VAE, self).__init__()\n",
    "\n",
    "        # Encoder\n",
    "        self.encoder = nn.Sequential(\n",
    "            nn.Conv2d(in_channels, 64, kernel_size=4, stride=2, padding=1),\n",
    "            nn.BatchNorm2d(64),\n",
    "            nn.LeakyReLU(negative_slope=0.2),\n",
    "            nn.Dropout(dropout_prob),\n",
    "\n",
    "            nn.Conv2d(64, 128, kernel_size=4, stride=2, padding=1),\n",
    "            nn.BatchNorm2d(128),\n",
    "            nn.LeakyReLU(negative_slope=0.2),\n",
    "            nn.Dropout(dropout_prob),\n",
    "\n",
    "            nn.Conv2d(128, 256, kernel_size=4, stride=2, padding=1),\n",
    "            nn.BatchNorm2d(256),\n",
    "            nn.LeakyReLU(negative_slope=0.2),\n",
    "            nn.Dropout(dropout_prob),\n",
    "\n",
    "            nn.Conv2d(256, 512, kernel_size=4, stride=2, padding=1),\n",
    "            nn.BatchNorm2d(512),\n",
    "            nn.LeakyReLU(negative_slope=0.2),\n",
    "            nn.Dropout(dropout_prob),\n",
    "\n",
    "            nn.Conv2d(512, 1024, kernel_size=4, stride=2, padding=1),\n",
    "            nn.BatchNorm2d(1024),\n",
    "            nn.LeakyReLU(negative_slope=0.2),\n",
    "            nn.Dropout(dropout_prob),\n",
    "        )\n",
    "\n",
    "        # Calculer la taille de sortie de l'encodeur\n",
    "        sample_input = torch.randn(1, in_channels, 128, 128)\n",
    "        output_features = self.encoder(sample_input).view(1, -1).shape[1]\n",
    "        \n",
    "        # Couches linéaires pour mu et logvar\n",
    "        self.fc_mu = nn.Linear(output_features, latent_dim)\n",
    "        self.fc_logvar = nn.Linear(output_features, latent_dim)\n",
    "\n",
    "        # Décodeur linéaire\n",
    "        self.fc_decode = nn.Linear(latent_dim, output_features)\n",
    "\n",
    "        # Décodeur convolutif\n",
    "        self.decoder = nn.Sequential(\n",
    "            nn.ConvTranspose2d(1024, 512, kernel_size=4, stride=2, padding=1),\n",
    "            nn.BatchNorm2d(512),\n",
    "            nn.LeakyReLU(negative_slope=0.2),\n",
    "            nn.Dropout(dropout_prob),\n",
    "\n",
    "            nn.ConvTranspose2d(512, 256, kernel_size=4, stride=2, padding=1),\n",
    "            nn.BatchNorm2d(256),\n",
    "            nn.LeakyReLU(negative_slope=0.2),\n",
    "            nn.Dropout(dropout_prob),\n",
    "\n",
    "            nn.ConvTranspose2d(256, 128, kernel_size=4, stride=2, padding=1),\n",
    "            nn.BatchNorm2d(128),\n",
    "            nn.LeakyReLU(negative_slope=0.2),\n",
    "            nn.Dropout(dropout_prob),\n",
    "\n",
    "            nn.ConvTranspose2d(128, 64, kernel_size=4, stride=2, padding=1),\n",
    "            nn.BatchNorm2d(64),\n",
    "            nn.LeakyReLU(negative_slope=0.2),\n",
    "            nn.Dropout(dropout_prob),\n",
    "\n",
    "            nn.ConvTranspose2d(64, in_channels, kernel_size=4, stride=2, padding=1),\n",
    "            nn.Sigmoid(),  # Normalisation entre 0 et 1\n",
    "        )\n",
    "\n",
    "    def encode(self, x):\n",
    "        h = self.encoder(x)\n",
    "        h = h.view(h.size(0), -1)  # Flatten\n",
    "        return self.fc_mu(h), self.fc_logvar(h)\n",
    "\n",
    "    def reparameterize(self, mu, logvar):\n",
    "        std = torch.exp(0.5 * logvar)\n",
    "        eps = torch.randn_like(std)\n",
    "        return mu + eps * std\n",
    "\n",
    "    def decode(self, z):\n",
    "        h = self.fc_decode(z)\n",
    "        h = h.view(h.size(0), 1024, 4, 4)  # Ajustement pour le décodeur\n",
    "        return self.decoder(h)\n",
    "\n",
    "    def forward(self, x):\n",
    "        mu, logvar = self.encode(x)\n",
    "        z = self.reparameterize(mu, logvar)\n",
    "        return self.decode(z), mu, logvar\n"
   ]
  },
  {
   "cell_type": "code",
   "execution_count": 10,
   "id": "e5230e51",
   "metadata": {
    "execution": {
     "iopub.execute_input": "2024-11-13T16:21:07.288341Z",
     "iopub.status.busy": "2024-11-13T16:21:07.287895Z",
     "iopub.status.idle": "2024-11-13T16:21:08.852966Z",
     "shell.execute_reply": "2024-11-13T16:21:08.852072Z"
    },
    "papermill": {
     "duration": 1.575159,
     "end_time": "2024-11-13T16:21:08.855433",
     "exception": false,
     "start_time": "2024-11-13T16:21:07.280274",
     "status": "completed"
    },
    "tags": []
   },
   "outputs": [],
   "source": [
    "import torch\n",
    "import torch.nn as nn\n",
    "from torchvision import transforms  # Assurez-vous d'importer transforms\n",
    "import numpy as np\n",
    "\n",
    "transform = transforms.Compose([\n",
    "     transforms.Resize((128, 128)), \n",
    "    transforms.ToTensor(),\n",
    "    transforms.Normalize((0.5,), (0.5,)),\n",
    "])\n"
   ]
  },
  {
   "cell_type": "code",
   "execution_count": 11,
   "id": "2b35310e",
   "metadata": {
    "execution": {
     "iopub.execute_input": "2024-11-13T16:21:08.871034Z",
     "iopub.status.busy": "2024-11-13T16:21:08.870553Z",
     "iopub.status.idle": "2024-11-13T16:21:08.877554Z",
     "shell.execute_reply": "2024-11-13T16:21:08.876732Z"
    },
    "papermill": {
     "duration": 0.016876,
     "end_time": "2024-11-13T16:21:08.879553",
     "exception": false,
     "start_time": "2024-11-13T16:21:08.862677",
     "status": "completed"
    },
    "tags": []
   },
   "outputs": [],
   "source": [
    "import torch.nn as nn\n",
    "\n",
    "def weights_init(m):\n",
    "    if isinstance(m, nn.Conv2d) or isinstance(m, nn.ConvTranspose2d):\n",
    "        # Initialisation de He pour les couches convolutives (ReLU)\n",
    "        torch.nn.init.kaiming_normal_(m.weight, mode='fan_out', nonlinearity='relu')  \n",
    "    elif isinstance(m, nn.BatchNorm2d):\n",
    "        # Initialisation pour les couches BatchNorm\n",
    "        torch.nn.init.normal_(m.weight, 1.0, 0.02)\n",
    "        torch.nn.init.constant_(m.bias, 0)\n",
    "    elif isinstance(m, nn.Linear):\n",
    "        # Initialisation Xavier pour les couches linéaires (surtout si elles sont suivies d'une activation non linéaire)\n",
    "        torch.nn.init.xavier_normal_(m.weight)  # Xavier pour les couches linéaires\n",
    "        torch.nn.init.constant_(m.bias, 0)  # Initialisation des biais à 0\n"
   ]
  },
  {
   "cell_type": "code",
   "execution_count": 12,
   "id": "84c47be6",
   "metadata": {
    "execution": {
     "iopub.execute_input": "2024-11-13T16:21:08.894301Z",
     "iopub.status.busy": "2024-11-13T16:21:08.893936Z",
     "iopub.status.idle": "2024-11-13T16:21:09.652866Z",
     "shell.execute_reply": "2024-11-13T16:21:09.651947Z"
    },
    "papermill": {
     "duration": 0.76879,
     "end_time": "2024-11-13T16:21:09.654930",
     "exception": false,
     "start_time": "2024-11-13T16:21:08.886140",
     "status": "completed"
    },
    "tags": []
   },
   "outputs": [
    {
     "data": {
      "text/plain": [
       "VAE(\n",
       "  (encoder): Sequential(\n",
       "    (0): Conv2d(1, 64, kernel_size=(4, 4), stride=(2, 2), padding=(1, 1))\n",
       "    (1): BatchNorm2d(64, eps=1e-05, momentum=0.1, affine=True, track_running_stats=True)\n",
       "    (2): LeakyReLU(negative_slope=0.2)\n",
       "    (3): Dropout(p=0.1, inplace=False)\n",
       "    (4): Conv2d(64, 128, kernel_size=(4, 4), stride=(2, 2), padding=(1, 1))\n",
       "    (5): BatchNorm2d(128, eps=1e-05, momentum=0.1, affine=True, track_running_stats=True)\n",
       "    (6): LeakyReLU(negative_slope=0.2)\n",
       "    (7): Dropout(p=0.1, inplace=False)\n",
       "    (8): Conv2d(128, 256, kernel_size=(4, 4), stride=(2, 2), padding=(1, 1))\n",
       "    (9): BatchNorm2d(256, eps=1e-05, momentum=0.1, affine=True, track_running_stats=True)\n",
       "    (10): LeakyReLU(negative_slope=0.2)\n",
       "    (11): Dropout(p=0.1, inplace=False)\n",
       "    (12): Conv2d(256, 512, kernel_size=(4, 4), stride=(2, 2), padding=(1, 1))\n",
       "    (13): BatchNorm2d(512, eps=1e-05, momentum=0.1, affine=True, track_running_stats=True)\n",
       "    (14): LeakyReLU(negative_slope=0.2)\n",
       "    (15): Dropout(p=0.1, inplace=False)\n",
       "    (16): Conv2d(512, 1024, kernel_size=(4, 4), stride=(2, 2), padding=(1, 1))\n",
       "    (17): BatchNorm2d(1024, eps=1e-05, momentum=0.1, affine=True, track_running_stats=True)\n",
       "    (18): LeakyReLU(negative_slope=0.2)\n",
       "    (19): Dropout(p=0.1, inplace=False)\n",
       "  )\n",
       "  (fc_mu): Linear(in_features=16384, out_features=512, bias=True)\n",
       "  (fc_logvar): Linear(in_features=16384, out_features=512, bias=True)\n",
       "  (fc_decode): Linear(in_features=512, out_features=16384, bias=True)\n",
       "  (decoder): Sequential(\n",
       "    (0): ConvTranspose2d(1024, 512, kernel_size=(4, 4), stride=(2, 2), padding=(1, 1))\n",
       "    (1): BatchNorm2d(512, eps=1e-05, momentum=0.1, affine=True, track_running_stats=True)\n",
       "    (2): LeakyReLU(negative_slope=0.2)\n",
       "    (3): Dropout(p=0.1, inplace=False)\n",
       "    (4): ConvTranspose2d(512, 256, kernel_size=(4, 4), stride=(2, 2), padding=(1, 1))\n",
       "    (5): BatchNorm2d(256, eps=1e-05, momentum=0.1, affine=True, track_running_stats=True)\n",
       "    (6): LeakyReLU(negative_slope=0.2)\n",
       "    (7): Dropout(p=0.1, inplace=False)\n",
       "    (8): ConvTranspose2d(256, 128, kernel_size=(4, 4), stride=(2, 2), padding=(1, 1))\n",
       "    (9): BatchNorm2d(128, eps=1e-05, momentum=0.1, affine=True, track_running_stats=True)\n",
       "    (10): LeakyReLU(negative_slope=0.2)\n",
       "    (11): Dropout(p=0.1, inplace=False)\n",
       "    (12): ConvTranspose2d(128, 64, kernel_size=(4, 4), stride=(2, 2), padding=(1, 1))\n",
       "    (13): BatchNorm2d(64, eps=1e-05, momentum=0.1, affine=True, track_running_stats=True)\n",
       "    (14): LeakyReLU(negative_slope=0.2)\n",
       "    (15): Dropout(p=0.1, inplace=False)\n",
       "    (16): ConvTranspose2d(64, 1, kernel_size=(4, 4), stride=(2, 2), padding=(1, 1))\n",
       "    (17): Sigmoid()\n",
       "  )\n",
       ")"
      ]
     },
     "execution_count": 12,
     "metadata": {},
     "output_type": "execute_result"
    }
   ],
   "source": [
    "device = torch.device(\"cuda\" if torch.cuda.is_available() else \"cpu\")\n",
    "\n",
    "# Créer une instance du modèle VAE\n",
    "vae = VAE().to(device)\n",
    "# Appliquer la fonction d'initialisation des poids\n",
    "vae.apply(weights_init)\n"
   ]
  },
  {
   "cell_type": "code",
   "execution_count": 13,
   "id": "f6a7cec2",
   "metadata": {
    "execution": {
     "iopub.execute_input": "2024-11-13T16:21:09.670755Z",
     "iopub.status.busy": "2024-11-13T16:21:09.669905Z",
     "iopub.status.idle": "2024-11-13T16:21:10.267711Z",
     "shell.execute_reply": "2024-11-13T16:21:10.266644Z"
    },
    "papermill": {
     "duration": 0.60838,
     "end_time": "2024-11-13T16:21:10.270356",
     "exception": false,
     "start_time": "2024-11-13T16:21:09.661976",
     "status": "completed"
    },
    "tags": []
   },
   "outputs": [],
   "source": [
    "train_images_tensor = torch.tensor(train_images).unsqueeze(1)  # Ajouter un canal pour le noir et blanc\n"
   ]
  },
  {
   "cell_type": "code",
   "execution_count": 14,
   "id": "c26509ae",
   "metadata": {
    "execution": {
     "iopub.execute_input": "2024-11-13T16:21:10.288826Z",
     "iopub.status.busy": "2024-11-13T16:21:10.288409Z",
     "iopub.status.idle": "2024-11-13T16:21:10.295453Z",
     "shell.execute_reply": "2024-11-13T16:21:10.294548Z"
    },
    "papermill": {
     "duration": 0.018567,
     "end_time": "2024-11-13T16:21:10.297514",
     "exception": false,
     "start_time": "2024-11-13T16:21:10.278947",
     "status": "completed"
    },
    "tags": []
   },
   "outputs": [],
   "source": [
    "import torch\n",
    "from torch.utils.data import Dataset, DataLoader\n",
    "from torchvision import transforms\n",
    "import numpy as np\n",
    "\n",
    "# Définition de la classe CustomDataset\n",
    "class CustomDataset(Dataset):\n",
    "    def __init__(self, images_tensor, transform=None):\n",
    "        self.images_tensor = images_tensor\n",
    "        self.transform = transform\n",
    "\n",
    "    def __len__(self):\n",
    "        return len(self.images_tensor)\n",
    "\n",
    "    def __getitem__(self, idx):\n",
    "        image = self.images_tensor[idx]  # Obtenir l'image\n",
    "        if self.transform:\n",
    "            image = self.transform(image)  # Appliquer les transformations si définies\n",
    "        return image"
   ]
  },
  {
   "cell_type": "code",
   "execution_count": 15,
   "id": "b248ed65",
   "metadata": {
    "execution": {
     "iopub.execute_input": "2024-11-13T16:21:10.312850Z",
     "iopub.status.busy": "2024-11-13T16:21:10.312435Z",
     "iopub.status.idle": "2024-11-13T16:21:10.319967Z",
     "shell.execute_reply": "2024-11-13T16:21:10.318929Z"
    },
    "papermill": {
     "duration": 0.017887,
     "end_time": "2024-11-13T16:21:10.322257",
     "exception": false,
     "start_time": "2024-11-13T16:21:10.304370",
     "status": "completed"
    },
    "tags": []
   },
   "outputs": [
    {
     "name": "stdout",
     "output_type": "stream",
     "text": [
      "torch.Size([13600, 1, 128, 128])\n"
     ]
    }
   ],
   "source": [
    "# Vérifiez si les dimensions sont correctes\n",
    "print(train_images_tensor.shape)  # Devrait être [num_images, 1, 128, 128]\n",
    "\n",
    "# Définir les transformations\n",
    "transform = transforms.Compose([\n",
    "    transforms.Lambda(lambda x: x.float())  # Convertir en float, si nécessaire\n",
    "])\n",
    "\n",
    "# Créer l'instance de votre dataset\n",
    "custom_dataset = CustomDataset(train_images_tensor, transform=transform)\n",
    "\n",
    "# Créer le DataLoader\n",
    "batch_size = 128  # Ajustez en fonction de votre mémoire disponible\n",
    "dataloader = DataLoader(\n",
    "    custom_dataset,\n",
    "    batch_size=batch_size,\n",
    "    shuffle=True,\n",
    "    num_workers=4  # Ajustez en fonction de votre système\n",
    ")\n",
    "\n",
    "\n"
   ]
  },
  {
   "cell_type": "code",
   "execution_count": 16,
   "id": "ef3902b0",
   "metadata": {
    "execution": {
     "iopub.execute_input": "2024-11-13T16:21:10.337502Z",
     "iopub.status.busy": "2024-11-13T16:21:10.337120Z",
     "iopub.status.idle": "2024-11-13T16:21:10.347926Z",
     "shell.execute_reply": "2024-11-13T16:21:10.347070Z"
    },
    "papermill": {
     "duration": 0.020977,
     "end_time": "2024-11-13T16:21:10.350121",
     "exception": false,
     "start_time": "2024-11-13T16:21:10.329144",
     "status": "completed"
    },
    "tags": []
   },
   "outputs": [],
   "source": [
    "import torch\n",
    "from torch.utils.data import DataLoader, random_split\n",
    "\n",
    "# Définir la taille de votre ensemble de validation (par exemple 20% des données)\n",
    "val_split = 0.2\n",
    "dataset_size = len(custom_dataset)\n",
    "val_size = int(val_split * dataset_size)\n",
    "train_size = dataset_size - val_size\n",
    "\n",
    "# Diviser le dataset en ensembles d'entraînement et de validation\n",
    "train_dataset, val_dataset = random_split(custom_dataset, [train_size, val_size])\n",
    "\n",
    "# Créer les DataLoaders pour l'entraînement et la validation\n",
    "train_dataloader = DataLoader(\n",
    "    train_dataset,\n",
    "    batch_size=128,\n",
    "    shuffle=True,  # Mélanger les données d'entraînement\n",
    "    num_workers=4  # Ajustez en fonction de votre système\n",
    ")\n",
    "\n",
    "val_dataloader = DataLoader(\n",
    "    val_dataset,\n",
    "    batch_size=128,\n",
    "    shuffle=False,  # Pas besoin de mélanger les données de validation\n",
    "    num_workers=4  # Ajustez en fonction de votre système\n",
    ")\n"
   ]
  },
  {
   "cell_type": "code",
   "execution_count": 17,
   "id": "296ef6af",
   "metadata": {
    "execution": {
     "iopub.execute_input": "2024-11-13T16:21:10.366333Z",
     "iopub.status.busy": "2024-11-13T16:21:10.365898Z",
     "iopub.status.idle": "2024-11-13T16:50:48.617166Z",
     "shell.execute_reply": "2024-11-13T16:50:48.616205Z"
    },
    "papermill": {
     "duration": 1778.263127,
     "end_time": "2024-11-13T16:50:48.620401",
     "exception": false,
     "start_time": "2024-11-13T16:21:10.357274",
     "status": "completed"
    },
    "tags": []
   },
   "outputs": [
    {
     "name": "stderr",
     "output_type": "stream",
     "text": [
      "/opt/conda/lib/python3.10/site-packages/torch/optim/lr_scheduler.py:60: UserWarning: The verbose parameter is deprecated. Please use get_last_lr() to access the learning rate.\n",
      "  warnings.warn(\n"
     ]
    },
    {
     "name": "stdout",
     "output_type": "stream",
     "text": [
      "Époque [1/100], Perte moyenne d'entraînement : 1055.8145\n",
      "Époque [1/100], Perte moyenne de validation : 198.6104\n",
      "Époque [2/100], Perte moyenne d'entraînement : 327.0503\n",
      "Époque [2/100], Perte moyenne de validation : 108.9359\n",
      "Époque [3/100], Perte moyenne d'entraînement : 202.1842\n",
      "Époque [3/100], Perte moyenne de validation : 106.6768\n",
      "Époque [4/100], Perte moyenne d'entraînement : 167.3754\n",
      "Époque [4/100], Perte moyenne de validation : 113.4675\n",
      "Époque [5/100], Perte moyenne d'entraînement : 143.5606\n",
      "Époque [5/100], Perte moyenne de validation : 92.3783\n",
      "Époque [6/100], Perte moyenne d'entraînement : 125.8917\n",
      "Époque [6/100], Perte moyenne de validation : 79.0142\n",
      "Époque [7/100], Perte moyenne d'entraînement : 133.0178\n",
      "Époque [7/100], Perte moyenne de validation : 75.0902\n",
      "Époque [8/100], Perte moyenne d'entraînement : 105.3081\n",
      "Époque [8/100], Perte moyenne de validation : 69.8145\n",
      "Époque [9/100], Perte moyenne d'entraînement : 97.5532\n",
      "Époque [9/100], Perte moyenne de validation : 66.0525\n",
      "Époque [10/100], Perte moyenne d'entraînement : 93.2639\n",
      "Époque [10/100], Perte moyenne de validation : 65.3260\n",
      "Époque [11/100], Perte moyenne d'entraînement : 90.7736\n",
      "Époque [11/100], Perte moyenne de validation : 64.8456\n",
      "Époque [12/100], Perte moyenne d'entraînement : 88.6008\n",
      "Époque [12/100], Perte moyenne de validation : 64.7122\n",
      "Époque [13/100], Perte moyenne d'entraînement : 86.8028\n",
      "Époque [13/100], Perte moyenne de validation : 64.5956\n",
      "Époque [14/100], Perte moyenne d'entraînement : 85.1795\n",
      "Époque [14/100], Perte moyenne de validation : 64.2496\n",
      "Époque [15/100], Perte moyenne d'entraînement : 83.7393\n",
      "Époque [15/100], Perte moyenne de validation : 64.1965\n",
      "Époque [16/100], Perte moyenne d'entraînement : 82.4405\n",
      "Époque [16/100], Perte moyenne de validation : 64.1314\n",
      "Époque [17/100], Perte moyenne d'entraînement : 81.1643\n",
      "Époque [17/100], Perte moyenne de validation : 64.0402\n",
      "Époque [18/100], Perte moyenne d'entraînement : 80.0273\n",
      "Époque [18/100], Perte moyenne de validation : 63.8693\n",
      "Époque [19/100], Perte moyenne d'entraînement : 78.9258\n",
      "Époque [19/100], Perte moyenne de validation : 63.7711\n",
      "Époque [20/100], Perte moyenne d'entraînement : 77.9498\n",
      "Époque [20/100], Perte moyenne de validation : 63.8493\n",
      "Époque [21/100], Perte moyenne d'entraînement : 76.9762\n",
      "Époque [21/100], Perte moyenne de validation : 63.6809\n",
      "Époque [22/100], Perte moyenne d'entraînement : 76.0460\n",
      "Époque [22/100], Perte moyenne de validation : 63.5900\n",
      "Époque [23/100], Perte moyenne d'entraînement : 75.2177\n",
      "Époque [23/100], Perte moyenne de validation : 63.8243\n",
      "Époque [24/100], Perte moyenne d'entraînement : 74.4980\n",
      "Époque [24/100], Perte moyenne de validation : 63.4601\n",
      "Époque [25/100], Perte moyenne d'entraînement : 73.5979\n",
      "Époque [25/100], Perte moyenne de validation : 63.5091\n",
      "Époque [26/100], Perte moyenne d'entraînement : 73.0150\n",
      "Époque [26/100], Perte moyenne de validation : 63.2958\n",
      "Époque [27/100], Perte moyenne d'entraînement : 72.2438\n",
      "Époque [27/100], Perte moyenne de validation : 63.1841\n",
      "Époque [28/100], Perte moyenne d'entraînement : 71.6119\n",
      "Époque [28/100], Perte moyenne de validation : 63.4397\n",
      "Époque [29/100], Perte moyenne d'entraînement : 71.1094\n",
      "Époque [29/100], Perte moyenne de validation : 63.0406\n",
      "Époque [30/100], Perte moyenne d'entraînement : 70.4685\n",
      "Époque [30/100], Perte moyenne de validation : 62.9734\n",
      "Époque [31/100], Perte moyenne d'entraînement : 69.9797\n",
      "Époque [31/100], Perte moyenne de validation : 63.0991\n",
      "Époque [32/100], Perte moyenne d'entraînement : 69.4923\n",
      "Époque [32/100], Perte moyenne de validation : 62.9063\n",
      "Époque [33/100], Perte moyenne d'entraînement : 69.0325\n",
      "Époque [33/100], Perte moyenne de validation : 62.8135\n",
      "Époque [34/100], Perte moyenne d'entraînement : 68.6492\n",
      "Époque [34/100], Perte moyenne de validation : 62.9456\n",
      "Époque [35/100], Perte moyenne d'entraînement : 68.3366\n",
      "Époque [35/100], Perte moyenne de validation : 63.1794\n",
      "Époque [36/100], Perte moyenne d'entraînement : 67.9003\n",
      "Époque [36/100], Perte moyenne de validation : 62.7072\n",
      "Époque [37/100], Perte moyenne d'entraînement : 67.6020\n",
      "Époque [37/100], Perte moyenne de validation : 63.2260\n",
      "Époque [38/100], Perte moyenne d'entraînement : 67.3368\n",
      "Époque [38/100], Perte moyenne de validation : 63.0129\n",
      "Époque [39/100], Perte moyenne d'entraînement : 67.1072\n",
      "Époque [39/100], Perte moyenne de validation : 62.7425\n",
      "Époque [40/100], Perte moyenne d'entraînement : 66.6513\n",
      "Époque [40/100], Perte moyenne de validation : 62.5735\n",
      "Époque [41/100], Perte moyenne d'entraînement : 66.5164\n",
      "Époque [41/100], Perte moyenne de validation : 62.7120\n",
      "Époque [42/100], Perte moyenne d'entraînement : 66.2664\n",
      "Époque [42/100], Perte moyenne de validation : 62.7854\n",
      "Époque [43/100], Perte moyenne d'entraînement : 66.0196\n",
      "Époque [43/100], Perte moyenne de validation : 62.6263\n",
      "Époque [44/100], Perte moyenne d'entraînement : 65.9506\n",
      "Époque [44/100], Perte moyenne de validation : 62.9088\n",
      "Époque [45/100], Perte moyenne d'entraînement : 65.8331\n",
      "Époque [45/100], Perte moyenne de validation : 62.5299\n",
      "Époque [46/100], Perte moyenne d'entraînement : 65.6663\n",
      "Époque [46/100], Perte moyenne de validation : 62.4720\n",
      "Époque [47/100], Perte moyenne d'entraînement : 65.4474\n",
      "Époque [47/100], Perte moyenne de validation : 62.6576\n",
      "Époque [48/100], Perte moyenne d'entraînement : 65.5358\n",
      "Époque [48/100], Perte moyenne de validation : 62.3721\n",
      "Époque [49/100], Perte moyenne d'entraînement : 65.2172\n",
      "Époque [49/100], Perte moyenne de validation : 62.4921\n",
      "Époque [50/100], Perte moyenne d'entraînement : 65.2027\n",
      "Époque [50/100], Perte moyenne de validation : 62.8704\n",
      "Époque [51/100], Perte moyenne d'entraînement : 65.1107\n",
      "Époque [51/100], Perte moyenne de validation : 62.2765\n",
      "Époque [52/100], Perte moyenne d'entraînement : 64.9538\n",
      "Époque [52/100], Perte moyenne de validation : 62.6064\n",
      "Époque [53/100], Perte moyenne d'entraînement : 65.0213\n",
      "Époque [53/100], Perte moyenne de validation : 62.3966\n",
      "Époque [54/100], Perte moyenne d'entraînement : 64.8584\n",
      "Époque [54/100], Perte moyenne de validation : 62.3756\n",
      "Époque [55/100], Perte moyenne d'entraînement : 64.8036\n",
      "Époque [55/100], Perte moyenne de validation : 62.7010\n",
      "Époque [56/100], Perte moyenne d'entraînement : 64.6601\n",
      "Époque [56/100], Perte moyenne de validation : 62.3655\n",
      "Époque [57/100], Perte moyenne d'entraînement : 64.6766\n",
      "Époque [57/100], Perte moyenne de validation : 62.2941\n",
      "Époque [58/100], Perte moyenne d'entraînement : 64.7995\n",
      "Époque [58/100], Perte moyenne de validation : 62.5874\n",
      "Époque [59/100], Perte moyenne d'entraînement : 64.6747\n",
      "Époque [59/100], Perte moyenne de validation : 62.8670\n",
      "Époque [60/100], Perte moyenne d'entraînement : 64.5197\n",
      "Époque [60/100], Perte moyenne de validation : 62.4117\n",
      "Époque [61/100], Perte moyenne d'entraînement : 64.5618\n",
      "Époque [61/100], Perte moyenne de validation : 62.6090\n",
      "Époque [62/100], Perte moyenne d'entraînement : 64.6711\n",
      "Époque [62/100], Perte moyenne de validation : 62.4483\n",
      "Époque [63/100], Perte moyenne d'entraînement : 64.4917\n",
      "Époque [63/100], Perte moyenne de validation : 62.6075\n",
      "Époque [64/100], Perte moyenne d'entraînement : 64.4437\n",
      "Époque [64/100], Perte moyenne de validation : 62.3836\n",
      "Époque [65/100], Perte moyenne d'entraînement : 64.5458\n",
      "Époque [65/100], Perte moyenne de validation : 62.2457\n",
      "Époque [66/100], Perte moyenne d'entraînement : 64.3354\n",
      "Époque [66/100], Perte moyenne de validation : 62.5238\n",
      "Époque [67/100], Perte moyenne d'entraînement : 64.3487\n",
      "Époque [67/100], Perte moyenne de validation : 62.4109\n",
      "Époque [68/100], Perte moyenne d'entraînement : 64.3123\n",
      "Époque [68/100], Perte moyenne de validation : 62.5052\n",
      "Époque [69/100], Perte moyenne d'entraînement : 64.1396\n",
      "Époque [69/100], Perte moyenne de validation : 63.1029\n",
      "Époque [70/100], Perte moyenne d'entraînement : 64.2820\n",
      "Époque [70/100], Perte moyenne de validation : 62.3067\n",
      "Époque [71/100], Perte moyenne d'entraînement : 64.2268\n",
      "Époque [71/100], Perte moyenne de validation : 62.1453\n",
      "Époque [72/100], Perte moyenne d'entraînement : 64.1460\n",
      "Époque [72/100], Perte moyenne de validation : 62.3890\n",
      "Époque [73/100], Perte moyenne d'entraînement : 64.1390\n",
      "Époque [73/100], Perte moyenne de validation : 62.6734\n",
      "Époque [74/100], Perte moyenne d'entraînement : 64.2239\n",
      "Époque [74/100], Perte moyenne de validation : 62.3232\n",
      "Époque [75/100], Perte moyenne d'entraînement : 64.1971\n",
      "Époque [75/100], Perte moyenne de validation : 62.6335\n",
      "Époque [76/100], Perte moyenne d'entraînement : 64.0833\n",
      "Époque [76/100], Perte moyenne de validation : 63.1836\n",
      "Époque [77/100], Perte moyenne d'entraînement : 64.1881\n",
      "Époque [77/100], Perte moyenne de validation : 62.3075\n",
      "Époque [78/100], Perte moyenne d'entraînement : 64.2069\n",
      "Époque [78/100], Perte moyenne de validation : 62.2423\n",
      "Époque [79/100], Perte moyenne d'entraînement : 64.1736\n",
      "Époque [79/100], Perte moyenne de validation : 62.1764\n",
      "Époque [80/100], Perte moyenne d'entraînement : 64.0614\n",
      "Époque [80/100], Perte moyenne de validation : 62.3151\n",
      "Époque [81/100], Perte moyenne d'entraînement : 64.0448\n",
      "Époque [81/100], Perte moyenne de validation : 63.0066\n",
      "Époque [82/100], Perte moyenne d'entraînement : 64.0025\n",
      "Époque [82/100], Perte moyenne de validation : 62.2605\n",
      "Époque [83/100], Perte moyenne d'entraînement : 64.0544\n",
      "Époque [83/100], Perte moyenne de validation : 62.2584\n",
      "Époque [84/100], Perte moyenne d'entraînement : 64.1994\n",
      "Époque [84/100], Perte moyenne de validation : 62.3019\n",
      "Époque [85/100], Perte moyenne d'entraînement : 63.9447\n",
      "Époque [85/100], Perte moyenne de validation : 62.4283\n",
      "Époque [86/100], Perte moyenne d'entraînement : 63.9542\n",
      "Époque [86/100], Perte moyenne de validation : 61.8479\n",
      "Époque [87/100], Perte moyenne d'entraînement : 63.9736\n",
      "Époque [87/100], Perte moyenne de validation : 62.8868\n",
      "Époque [88/100], Perte moyenne d'entraînement : 64.0215\n",
      "Époque [88/100], Perte moyenne de validation : 62.0533\n",
      "Époque [89/100], Perte moyenne d'entraînement : 64.0715\n",
      "Époque [89/100], Perte moyenne de validation : 62.3309\n",
      "Époque [90/100], Perte moyenne d'entraînement : 63.9603\n",
      "Époque [90/100], Perte moyenne de validation : 63.6933\n",
      "Époque [91/100], Perte moyenne d'entraînement : 63.8639\n",
      "Époque [91/100], Perte moyenne de validation : 62.3115\n",
      "Époque [92/100], Perte moyenne d'entraînement : 63.8830\n",
      "Époque [92/100], Perte moyenne de validation : 62.3517\n",
      "Époque [93/100], Perte moyenne d'entraînement : 63.8277\n",
      "Époque [93/100], Perte moyenne de validation : 61.9626\n",
      "Époque [94/100], Perte moyenne d'entraînement : 63.8389\n",
      "Époque [94/100], Perte moyenne de validation : 62.1079\n",
      "Époque [95/100], Perte moyenne d'entraînement : 63.8920\n",
      "Époque [95/100], Perte moyenne de validation : 62.4818\n",
      "Époque [96/100], Perte moyenne d'entraînement : 63.9380\n",
      "Époque [96/100], Perte moyenne de validation : 62.1065\n",
      "Époque [97/100], Perte moyenne d'entraînement : 63.6218\n",
      "Époque [97/100], Perte moyenne de validation : 61.8455\n",
      "Époque [98/100], Perte moyenne d'entraînement : 63.6593\n",
      "Époque [98/100], Perte moyenne de validation : 61.9724\n",
      "Époque [99/100], Perte moyenne d'entraînement : 63.8335\n",
      "Époque [99/100], Perte moyenne de validation : 61.9103\n",
      "Époque [100/100], Perte moyenne d'entraînement : 63.7684\n",
      "Époque [100/100], Perte moyenne de validation : 62.5071\n"
     ]
    },
    {
     "data": {
      "image/png": "[encoded data removed]",
      "text/plain": [
       "<Figure size 1000x500 with 1 Axes>"
      ]
     },
     "metadata": {},
     "output_type": "display_data"
    },
    {
     "name": "stdout",
     "output_type": "stream",
     "text": [
      "Entraînement terminé.\n"
     ]
    }
   ],
   "source": [
    "import torch\n",
    "import torch.optim as optim\n",
    "import torch.nn.functional as F\n",
    "import matplotlib.pyplot as plt\n",
    "from torch.optim import AdamW\n",
    "from torch.optim.lr_scheduler import ReduceLROnPlateau\n",
    "\n",
    "\n",
    "# Définir les hyperparamètres\n",
    "num_epochs = 100\n",
    "#learning_rate = 0.001\n",
    "learning_rate = 0.0005\n",
    "weight_decay = 1e-5 # Choisir la régularisation L2\n",
    "\n",
    "device = torch.device(\"cuda\" if torch.cuda.is_available() else \"cpu\")\n",
    "\n",
    "# Optimiseur\n",
    "#optimizer = optim.Adam(vae.parameters(), lr=learning_rate)\n",
    "optimizer = AdamW(vae.parameters(), lr=learning_rate,weight_decay =weight_decay )\n",
    "scheduler = ReduceLROnPlateau(optimizer, mode='min', factor=0.5, patience=5, verbose=True)\n",
    "\n",
    "# Liste pour enregistrer l'historique de la perte\n",
    "loss_history = []\n",
    "val_loss_history = []\n",
    "\n",
    "# Boucle d'entraînement\n",
    "for epoch in range(num_epochs):\n",
    "    vae.train()\n",
    "    total_loss = 0\n",
    "\n",
    "    # Entraînement sur train_dataloader\n",
    "    for batch in train_dataloader:\n",
    "        images = batch  # Chargement des images dans le batch\n",
    "        images = images.to(device)  # Assurez-vous que les images et le modèle sont sur le même appareil\n",
    "        \n",
    "        # Forward pass : calcul de la reconstruction et des paramètres latents\n",
    "        reconstructed, mu, log_var = vae(images)\n",
    "        reconstructed_resized = F.interpolate(reconstructed, size=images.shape[2:], mode='bilinear', align_corners=False)\n",
    "\n",
    "        # Calcul de la perte de reconstruction\n",
    "        reconstruction_loss = F.mse_loss(reconstructed_resized, images, reduction=\"sum\")\n",
    "\n",
    "        # Calcul de la KL divergence\n",
    "        kl_divergence = -0.5 * torch.sum(1 + log_var - mu.pow(2) - log_var.exp())\n",
    "\n",
    "        beta = 3  # Ajustez selon les besoins, régularisation de la KL divergence pour éviter que le modèle ne se focalise trop sur des détails spécifiques des données d’entraînement.\n",
    "\n",
    "        # Perte totale\n",
    "        loss = reconstruction_loss + beta * kl_divergence\n",
    "        total_loss += loss.item()\n",
    "\n",
    "        # Backward pass et optimisation\n",
    "        optimizer.zero_grad()\n",
    "        loss.backward()\n",
    "        optimizer.step()\n",
    "\n",
    "    # Afficher la perte moyenne par image pour l'époque\n",
    "    avg_loss = total_loss / len(train_dataloader.dataset)\n",
    "    loss_history.append(avg_loss)  # Ajouter la perte moyenne à l'historique\n",
    "    print(f\"Époque [{epoch + 1}/{num_epochs}], Perte moyenne d'entraînement : {avg_loss:.4f}\")\n",
    "    \n",
    "    # Validation\n",
    "    vae.eval()  # Passer le modèle en mode évaluation\n",
    "    total_val_loss = 0\n",
    "\n",
    "    with torch.no_grad():  # Désactiver le calcul des gradients pendant la validation\n",
    "        for batch in val_dataloader:\n",
    "            images = batch  # Chargement des images dans le batch\n",
    "            images = images.to(device)  # Assurez-vous que les images et le modèle sont sur le même appareil\n",
    "\n",
    "            # Forward pass : calcul de la reconstruction et des paramètres latents\n",
    "            reconstructed, mu, log_var = vae(images)\n",
    "            reconstructed_resized = F.interpolate(reconstructed, size=images.shape[2:], mode='bilinear', align_corners=False)\n",
    "\n",
    "            # Calcul de la perte de reconstruction\n",
    "            reconstruction_loss = F.mse_loss(reconstructed_resized, images, reduction=\"sum\")\n",
    "\n",
    "            # Calcul de la KL divergence\n",
    "            kl_divergence = -0.5 * torch.sum(1 + log_var - mu.pow(2) - log_var.exp())\n",
    "\n",
    "            beta = 3 # Ajustez selon les besoins\n",
    "\n",
    "            # Perte totale\n",
    "            val_loss = reconstruction_loss + beta * kl_divergence\n",
    "            total_val_loss += val_loss.item()\n",
    "\n",
    "    # Afficher la perte moyenne de validation\n",
    "    avg_val_loss = total_val_loss / len(val_dataloader.dataset)\n",
    "    val_loss_history.append(avg_val_loss)\n",
    "    print(f\"Époque [{epoch + 1}/{num_epochs}], Perte moyenne de validation : {avg_val_loss:.4f}\")\n",
    "\n",
    "# Affichage de l'historique de la perte\n",
    "plt.figure(figsize=(10, 5))\n",
    "plt.plot(loss_history, label='Perte d\\'entraînement')\n",
    "plt.plot(val_loss_history, label='Perte de validation')\n",
    "plt.title('Historique des pertes pendant l\\'entraînement et la validation')\n",
    "plt.xlabel('Époque')\n",
    "plt.ylabel('Perte moyenne')\n",
    "plt.legend()\n",
    "plt.show()\n",
    "\n",
    "print(\"Entraînement terminé.\")\n"
   ]
  },
  {
   "cell_type": "code",
   "execution_count": 18,
   "id": "ce8891c0",
   "metadata": {
    "execution": {
     "iopub.execute_input": "2024-11-13T16:50:48.667834Z",
     "iopub.status.busy": "2024-11-13T16:50:48.667495Z",
     "iopub.status.idle": "2024-11-13T16:50:49.219203Z",
     "shell.execute_reply": "2024-11-13T16:50:49.218184Z"
    },
    "papermill": {
     "duration": 0.577046,
     "end_time": "2024-11-13T16:50:49.221323",
     "exception": false,
     "start_time": "2024-11-13T16:50:48.644277",
     "status": "completed"
    },
    "tags": []
   },
   "outputs": [
    {
     "data": {
      "text/plain": [
       "['Outputs/VAE_lastversionarch2.pkl']"
      ]
     },
     "execution_count": 18,
     "metadata": {},
     "output_type": "execute_result"
    }
   ],
   "source": [
    "import joblib\n",
    "import os\n",
    "# Assurez-vous que le répertoire outputs existe\n",
    "if not os.path.exists('Outputs'):\n",
    "    os.makedirs('Outputs')\n",
    "    # Enregistrer le modèle dans le répertoire outputs\n",
    "joblib.dump(vae, 'Outputs/VAE_lastversionarch2.pkl')"
   ]
  },
  {
   "cell_type": "code",
   "execution_count": null,
   "id": "4e0f5121",
   "metadata": {
    "papermill": {
     "duration": 0.022549,
     "end_time": "2024-11-13T16:50:49.320964",
     "exception": false,
     "start_time": "2024-11-13T16:50:49.298415",
     "status": "completed"
    },
    "tags": []
   },
   "outputs": [],
   "source": []
  }
 ],
 "metadata": {
  "kaggle": {
   "accelerator": "gpu",
   "dataSources": [
    {
     "datasetId": 3354128,
     "sourceId": 5835006,
     "sourceType": "datasetVersion"
    },
    {
     "datasetId": 5971766,
     "sourceId": 9753455,
     "sourceType": "datasetVersion"
    }
   ],
   "dockerImageVersionId": 30787,
   "isGpuEnabled": true,
   "isInternetEnabled": true,
   "language": "python",
   "sourceType": "notebook"
  },
  "kernelspec": {
   "display_name": "Python 3",
   "language": "python",
   "name": "python3"
  },
  "language_info": {
   "codemirror_mode": {
    "name": "ipython",
    "version": 3
   },
   "file_extension": ".py",
   "mimetype": "text/x-python",
   "name": "python",
   "nbconvert_exporter": "python",
   "pygments_lexer": "ipython3",
   "version": "3.10.14"
  },
  "papermill": {
   "default_parameters": {},
   "duration": 1892.323026,
   "end_time": "2024-11-13T16:50:51.067093",
   "environment_variables": {},
   "exception": null,
   "input_path": "__notebook__.ipynb",
   "output_path": "__notebook__.ipynb",
   "parameters": {},
   "start_time": "2024-11-13T16:19:18.744067",
   "version": "2.6.0"
  }
 },
 "nbformat": 4,
 "nbformat_minor": 5
}
